{
 "cells": [
  {
   "cell_type": "markdown",
   "id": "b0784c55-4f20-4d26-8c27-b68a7f0fe0a5",
   "metadata": {},
   "source": [
    "# Preprocessing Exploration"
   ]
  },
  {
   "cell_type": "code",
   "execution_count": 1,
   "id": "a3881e84-b64c-44b0-9a5e-ae234d0d3185",
   "metadata": {},
   "outputs": [],
   "source": [
    "import numpy as np\n",
    "import pandas as pd\n",
    "import sqlite3, math\n",
    "import xgboost as xgb\n",
    "#from preprocessing.preprocessor import Preprocessor\n",
    "from imblearn.over_sampling import RandomOverSampler\n",
    "from sklearn.metrics import accuracy_score\n",
    "\n",
    "from sklearn.preprocessing import OneHotEncoder\n",
    "\n",
    "from sklearn.compose import ColumnTransformer\n",
    "from sklearn.pipeline import Pipeline\n",
    "from sklearn.preprocessing import OneHotEncoder, StandardScaler\n",
    "from sklearn.impute import SimpleImputer"
   ]
  },
  {
   "cell_type": "code",
   "execution_count": null,
   "id": "85968c66-3b37-4564-8148-77acc13c9aca",
   "metadata": {},
   "outputs": [],
   "source": []
  },
  {
   "cell_type": "code",
   "execution_count": 2,
   "id": "4581957a-d088-411a-9577-48670c988129",
   "metadata": {},
   "outputs": [],
   "source": [
    "# Load CSV data into Pandas DataFrame \n",
    "#train_identity_data = pd.read_csv('../data/raw_data/train_identity.csv') \n",
    "train_transaction_data = pd.read_csv('../data/raw_data/train_transaction.csv') \n",
    "#test_identity_data = pd.read_csv('../data/raw_data/test_identity.csv') \n",
    "test_transaction_data = pd.read_csv('../data/raw_data/test_transaction.csv') "
   ]
  },
  {
   "cell_type": "code",
   "execution_count": 3,
   "id": "f56d5489-6d99-4e52-92d9-e5d127ecee4f",
   "metadata": {
    "scrolled": true
   },
   "outputs": [
    {
     "name": "stdout",
     "output_type": "stream",
     "text": [
      "ProductCD: 5 unique values\n",
      "card1: 13553 unique values\n",
      "card2: 500 unique values\n",
      "card3: 114 unique values\n",
      "card4: 4 unique values\n",
      "card5: 119 unique values\n",
      "card6: 4 unique values\n",
      "addr1: 332 unique values\n",
      "addr2: 74 unique values\n",
      "P_emaildomain: 59 unique values\n",
      "R_emaildomain: 60 unique values\n",
      "M1: 2 unique values\n",
      "M2: 2 unique values\n",
      "M3: 2 unique values\n",
      "M4: 3 unique values\n",
      "M5: 2 unique values\n",
      "M6: 2 unique values\n",
      "M7: 2 unique values\n",
      "M8: 2 unique values\n",
      "M9: 2 unique values\n"
     ]
    }
   ],
   "source": [
    "df = train_transaction_data\n",
    "df.columns\n",
    "categorical_cols = [\"ProductCD\", \n",
    "                    \"card1\", \"card2\", \"card3\", \"card4\", \"card5\", \"card6\",\n",
    "                    \"addr1\", \"addr2\",\n",
    "                    \"P_emaildomain\", \"R_emaildomain\",\n",
    "                    \"M1\", \"M2\", \"M3\", \"M4\", \"M5\", \"M6\", \"M7\", \"M8\", \"M9\"\n",
    "                   ]\n",
    "for col in df[categorical_cols]:\n",
    "    print(f\"{col}: {df[col].nunique()} unique values\")\n"
   ]
  },
  {
   "cell_type": "code",
   "execution_count": 4,
   "id": "64a62e13-f3e2-4989-a86f-b1cfb301c4c9",
   "metadata": {},
   "outputs": [
    {
     "data": {
      "text/plain": [
       "0         13926\n",
       "1          2755\n",
       "2          4663\n",
       "3         18132\n",
       "4          4497\n",
       "          ...  \n",
       "590535     6550\n",
       "590536    10444\n",
       "590537    12037\n",
       "590538     7826\n",
       "590539    15066\n",
       "Name: card1, Length: 590540, dtype: int64"
      ]
     },
     "execution_count": 4,
     "metadata": {},
     "output_type": "execute_result"
    }
   ],
   "source": [
    "df.card1"
   ]
  },
  {
   "cell_type": "code",
   "execution_count": 18,
   "id": "342f6e51-32a9-424f-82f4-daa1e3fa1021",
   "metadata": {},
   "outputs": [],
   "source": [
    "from sklearn.base import BaseEstimator, TransformerMixin\n",
    "import pandas as pd\n",
    "\n",
    "class DropHighNaNColumns(BaseEstimator, TransformerMixin):\n",
    "    def __init__(self, threshold=0.70):\n",
    "        self.threshold = threshold\n",
    "        self.columns_to_keep_ = []\n",
    "\n",
    "    def fit(self, X, y=None):\n",
    "        # Store columns where the fraction of NaNs is below the threshold\n",
    "        self.columns_to_keep_ = X.columns[X.isnull().mean() < self.threshold].tolist()\n",
    "        return self\n",
    "\n",
    "    def transform(self, X):\n",
    "        return X[self.columns_to_keep_].copy()\n",
    "\n",
    "    def get_feature_names_out(self, input_features=None):\n",
    "        # Return the final set of columns after dropping\n",
    "        return self.columns_to_keep_"
   ]
  },
  {
   "cell_type": "code",
   "execution_count": 19,
   "id": "98391ad1-eaef-4c3d-aba1-12caf3365127",
   "metadata": {},
   "outputs": [],
   "source": [
    "class RareCategoryGrouper(BaseEstimator, TransformerMixin):\n",
    "    def __init__(self, min_freq=10):\n",
    "        self.min_freq = min_freq\n",
    "        self.frequent_categories_ = {}\n",
    "\n",
    "    def fit(self, X, y=None):\n",
    "        X_str = X.astype(str)\n",
    "        for col in X.columns:\n",
    "            freq = X[col].value_counts()\n",
    "            self.frequent_categories_[col] = freq[freq >= self.min_freq].index.tolist()\n",
    "        return self\n",
    "\n",
    "    def transform(self, X):\n",
    "        X_str = X.astype(str)\n",
    "        X_out = X_str.copy()\n",
    "        for col in X.columns:\n",
    "            X_out[col] = X_out[col].where(X_out[col].isin(self.frequent_categories_[col]), other='Other')\n",
    "        self.feature_names_out_ = X_out.columns\n",
    "        return X_out\n",
    "\n",
    "    def get_feature_names_out(self, input_features=None):\n",
    "        return self.feature_names_out_"
   ]
  },
  {
   "cell_type": "code",
   "execution_count": 20,
   "id": "69008fe2-42a6-4442-8cdf-4167b3b88446",
   "metadata": {
    "scrolled": true
   },
   "outputs": [],
   "source": [
    "categorical_cols = [\"ProductCD\", \n",
    "                    \"card1\", \"card2\", \"card3\", \"card4\", \"card5\", \"card6\",\n",
    "                    \"addr1\", \"addr2\",\n",
    "                    \"P_emaildomain\", \"R_emaildomain\",\n",
    "                    \"M1\", \"M2\", \"M3\", \"M4\", \"M5\", \"M6\", \"M7\", \"M8\", \"M9\"\n",
    "                   ]\n",
    "union_list = list(set(categorical_cols).union({\"TransactionID\", \"isFraud\", }))\n",
    "sub_df = df.drop(columns=union_list)\n",
    "numeric_cols = sub_df.columns\n",
    "\n",
    "df.addr2.unique()\n",
    "\n",
    "for name in categorical_cols:\n",
    "    if df.dtypes[name] == float:\n",
    "        df[name] = df[name].astype('Int64')\n",
    "    "
   ]
  },
  {
   "cell_type": "code",
   "execution_count": 21,
   "id": "5a1ed99b-80c8-40cd-974c-f7b6a2b79f45",
   "metadata": {},
   "outputs": [],
   "source": [
    "enc = OneHotEncoder(handle_unknown='ignore')\n",
    "\n",
    "cat_transformer = Pipeline([\n",
    "    ('drop_nan_cols', DropHighNaNColumns(threshold=0.75)),\n",
    "    ('rare_class_combine', RareCategoryGrouper(min_freq=3000)),\n",
    "    ('onehot', enc)\n",
    "])\n",
    "\n",
    "num_transformer = Pipeline([\n",
    "    ('drop_nan_cols', DropHighNaNColumns(threshold=0.75)),\n",
    "#    ('scaler', StandardScaler())\n",
    "])\n",
    "\n",
    "preprocessor = ColumnTransformer([\n",
    "    ('cat', cat_transformer, categorical_cols),\n",
    "    ('num', num_transformer, numeric_cols)\n",
    "])"
   ]
  },
  {
   "cell_type": "code",
   "execution_count": 22,
   "id": "282efc1d-87a0-4559-b56b-dea8d922e58c",
   "metadata": {},
   "outputs": [
    {
     "data": {
      "text/plain": [
       "0         315\n",
       "1         325\n",
       "2         330\n",
       "3         476\n",
       "4         420\n",
       "         ... \n",
       "590535    272\n",
       "590536    204\n",
       "590537    231\n",
       "590538    387\n",
       "590539    299\n",
       "Name: addr1, Length: 590540, dtype: Int64"
      ]
     },
     "execution_count": 22,
     "metadata": {},
     "output_type": "execute_result"
    }
   ],
   "source": [
    "df.addr1"
   ]
  },
  {
   "cell_type": "code",
   "execution_count": 25,
   "id": "f7b3b73e-7b83-4f34-8d0a-56349c3adc10",
   "metadata": {},
   "outputs": [
    {
     "data": {
      "text/plain": [
       "(590540, 263)"
      ]
     },
     "execution_count": 25,
     "metadata": {},
     "output_type": "execute_result"
    }
   ],
   "source": [
    "df_clean = preprocessor.fit_transform(df)\n",
    "df_clean.shape"
   ]
  },
  {
   "cell_type": "code",
   "execution_count": 26,
   "id": "150ca3e1-9715-41f1-9967-b317467ff99b",
   "metadata": {},
   "outputs": [
    {
     "data": {
      "text/plain": [
       "array(['cat__ProductCD_C', 'cat__ProductCD_H', 'cat__ProductCD_R',\n",
       "       'cat__ProductCD_S', 'cat__ProductCD_W', 'cat__card1_Other',\n",
       "       'cat__card2_Other', 'cat__card3_Other', 'cat__card4_Other',\n",
       "       'cat__card4_american express', 'cat__card4_discover',\n",
       "       'cat__card4_mastercard', 'cat__card4_visa', 'cat__card5_Other',\n",
       "       'cat__card6_Other', 'cat__card6_credit', 'cat__card6_debit',\n",
       "       'cat__addr1_Other', 'cat__addr2_Other', 'cat__P_emaildomain_Other',\n",
       "       'cat__P_emaildomain_anonymous.com', 'cat__P_emaildomain_aol.com',\n",
       "       'cat__P_emaildomain_att.net', 'cat__P_emaildomain_comcast.net',\n",
       "       'cat__P_emaildomain_gmail.com', 'cat__P_emaildomain_hotmail.com',\n",
       "       'cat__P_emaildomain_icloud.com', 'cat__P_emaildomain_live.com',\n",
       "       'cat__P_emaildomain_msn.com', 'cat__P_emaildomain_outlook.com',\n",
       "       'cat__P_emaildomain_yahoo.com', 'cat__M1_Other', 'cat__M1_T',\n",
       "       'cat__M2_F', 'cat__M2_Other', 'cat__M2_T', 'cat__M3_F',\n",
       "       'cat__M3_Other', 'cat__M3_T', 'cat__M4_M0', 'cat__M4_M1',\n",
       "       'cat__M4_M2', 'cat__M4_Other', 'cat__M5_F', 'cat__M5_Other',\n",
       "       'cat__M5_T', 'cat__M6_F', 'cat__M6_Other', 'cat__M6_T',\n",
       "       'cat__M7_F', 'cat__M7_Other', 'cat__M7_T', 'cat__M8_F',\n",
       "       'cat__M8_Other', 'cat__M8_T', 'cat__M9_F', 'cat__M9_Other',\n",
       "       'cat__M9_T', 'num__TransactionDT', 'num__TransactionAmt',\n",
       "       'num__dist1', 'num__C1', 'num__C2', 'num__C3', 'num__C4',\n",
       "       'num__C5', 'num__C6', 'num__C7', 'num__C8', 'num__C9', 'num__C10',\n",
       "       'num__C11', 'num__C12', 'num__C13', 'num__C14', 'num__D1',\n",
       "       'num__D2', 'num__D3', 'num__D4', 'num__D5', 'num__D10', 'num__D11',\n",
       "       'num__D15', 'num__V1', 'num__V2', 'num__V3', 'num__V4', 'num__V5',\n",
       "       'num__V6', 'num__V7', 'num__V8', 'num__V9', 'num__V10', 'num__V11',\n",
       "       'num__V12', 'num__V13', 'num__V14', 'num__V15', 'num__V16',\n",
       "       'num__V17', 'num__V18', 'num__V19', 'num__V20', 'num__V21',\n",
       "       'num__V22', 'num__V23', 'num__V24', 'num__V25', 'num__V26',\n",
       "       'num__V27', 'num__V28', 'num__V29', 'num__V30', 'num__V31',\n",
       "       'num__V32', 'num__V33', 'num__V34', 'num__V35', 'num__V36',\n",
       "       'num__V37', 'num__V38', 'num__V39', 'num__V40', 'num__V41',\n",
       "       'num__V42', 'num__V43', 'num__V44', 'num__V45', 'num__V46',\n",
       "       'num__V47', 'num__V48', 'num__V49', 'num__V50', 'num__V51',\n",
       "       'num__V52', 'num__V53', 'num__V54', 'num__V55', 'num__V56',\n",
       "       'num__V57', 'num__V58', 'num__V59', 'num__V60', 'num__V61',\n",
       "       'num__V62', 'num__V63', 'num__V64', 'num__V65', 'num__V66',\n",
       "       'num__V67', 'num__V68', 'num__V69', 'num__V70', 'num__V71',\n",
       "       'num__V72', 'num__V73', 'num__V74', 'num__V75', 'num__V76',\n",
       "       'num__V77', 'num__V78', 'num__V79', 'num__V80', 'num__V81',\n",
       "       'num__V82', 'num__V83', 'num__V84', 'num__V85', 'num__V86',\n",
       "       'num__V87', 'num__V88', 'num__V89', 'num__V90', 'num__V91',\n",
       "       'num__V92', 'num__V93', 'num__V94', 'num__V95', 'num__V96',\n",
       "       'num__V97', 'num__V98', 'num__V99', 'num__V100', 'num__V101',\n",
       "       'num__V102', 'num__V103', 'num__V104', 'num__V105', 'num__V106',\n",
       "       'num__V107', 'num__V108', 'num__V109', 'num__V110', 'num__V111',\n",
       "       'num__V112', 'num__V113', 'num__V114', 'num__V115', 'num__V116',\n",
       "       'num__V117', 'num__V118', 'num__V119', 'num__V120', 'num__V121',\n",
       "       'num__V122', 'num__V123', 'num__V124', 'num__V125', 'num__V126',\n",
       "       'num__V127', 'num__V128', 'num__V129', 'num__V130', 'num__V131',\n",
       "       'num__V132', 'num__V133', 'num__V134', 'num__V135', 'num__V136',\n",
       "       'num__V137', 'num__V279', 'num__V280', 'num__V281', 'num__V282',\n",
       "       'num__V283', 'num__V284', 'num__V285', 'num__V286', 'num__V287',\n",
       "       'num__V288', 'num__V289', 'num__V290', 'num__V291', 'num__V292',\n",
       "       'num__V293', 'num__V294', 'num__V295', 'num__V296', 'num__V297',\n",
       "       'num__V298', 'num__V299', 'num__V300', 'num__V301', 'num__V302',\n",
       "       'num__V303', 'num__V304', 'num__V305', 'num__V306', 'num__V307',\n",
       "       'num__V308', 'num__V309', 'num__V310', 'num__V311', 'num__V312',\n",
       "       'num__V313', 'num__V314', 'num__V315', 'num__V316', 'num__V317',\n",
       "       'num__V318', 'num__V319', 'num__V320', 'num__V321'], dtype=object)"
      ]
     },
     "execution_count": 26,
     "metadata": {},
     "output_type": "execute_result"
    }
   ],
   "source": [
    "preprocessor.get_feature_names_out()"
   ]
  },
  {
   "cell_type": "code",
   "execution_count": 27,
   "id": "92cfe567-ca35-452f-bb21-01f5d9de6fd2",
   "metadata": {},
   "outputs": [
    {
     "data": {
      "text/plain": [
       "(590540, 263)"
      ]
     },
     "execution_count": 27,
     "metadata": {},
     "output_type": "execute_result"
    }
   ],
   "source": [
    "df_clean.shape"
   ]
  },
  {
   "cell_type": "code",
   "execution_count": 62,
   "id": "ed78ff98-fd26-40dc-8bdd-afe23a2f6e80",
   "metadata": {
    "scrolled": true
   },
   "outputs": [
    {
     "data": {
      "text/plain": [
       "array([nan, 'gmail.com', 'outlook.com', 'yahoo.com', 'mail.com',\n",
       "       'anonymous.com', 'hotmail.com', 'verizon.net', 'aol.com', 'me.com',\n",
       "       'comcast.net', 'optonline.net', 'cox.net', 'charter.net',\n",
       "       'rocketmail.com', 'prodigy.net.mx', 'embarqmail.com', 'icloud.com',\n",
       "       'live.com.mx', 'live.com', 'att.net', 'juno.com', 'ymail.com',\n",
       "       'sbcglobal.net', 'bellsouth.net', 'msn.com', 'q.com',\n",
       "       'yahoo.com.mx', 'centurylink.net', 'servicios-ta.com',\n",
       "       'earthlink.net', 'hotmail.es', 'cfl.rr.com', 'roadrunner.com',\n",
       "       'netzero.net', 'gmx.de', 'suddenlink.net', 'frontiernet.net',\n",
       "       'windstream.net', 'frontier.com', 'outlook.es', 'mac.com',\n",
       "       'netzero.com', 'aim.com', 'web.de', 'twc.com', 'cableone.net',\n",
       "       'yahoo.fr', 'yahoo.de', 'yahoo.es', 'sc.rr.com', 'ptd.net',\n",
       "       'live.fr', 'yahoo.co.uk', 'hotmail.fr', 'hotmail.de',\n",
       "       'hotmail.co.uk', 'protonmail.com', 'yahoo.co.jp'], dtype=object)"
      ]
     },
     "execution_count": 62,
     "metadata": {},
     "output_type": "execute_result"
    }
   ],
   "source": [
    "train_transaction_data.P_emaildomain.unique()\n",
    "mask = train_transaction_data.P_emaildomain == 'gmail'\n",
    "train_transaction_data.loc[mask, 'P_emaildomain'] = 'gmail.com'\n",
    "\n",
    "df = train_transaction_data[0:50]\n",
    "df_valid = train_transaction_data[200:250]\n",
    "df_test = test_transaction_data[0:50]\n",
    "mask = train_transaction_data.isFraud == 1\n",
    "dfF = train_transaction_data[mask]\n",
    "df = pd.concat([df,dfF])\n",
    "df.reset_index()\n",
    "df = df[0:60]\n",
    "df\n",
    "df_valid\n",
    "\n",
    "train_transaction_data.P_emaildomain.unique()"
   ]
  },
  {
   "cell_type": "code",
   "execution_count": 24,
   "id": "ef328e5f-557e-4253-a3e2-c06eafd7e52d",
   "metadata": {
    "scrolled": true
   },
   "outputs": [
    {
     "name": "stdout",
     "output_type": "stream",
     "text": [
      "> \u001b[32m/home/db/gitProjects/fraud-detection/src/preprocessing/preprocessor.py\u001b[39m(\u001b[92m43\u001b[39m)\u001b[36mone_hot\u001b[39m\u001b[34m()\u001b[39m\n",
      "\u001b[32m     41\u001b[39m             current_col = self.df[name].to_frame()\n",
      "\u001b[32m     42\u001b[39m             pdb.set_trace()\n",
      "\u001b[32m---> 43\u001b[39m             nan_mask = self.df[name].isna()\n",
      "\u001b[32m     44\u001b[39m             cats = self.df[name].unique()\n",
      "\u001b[32m     45\u001b[39m             \u001b[38;5;66;03m#encoder = OneHotEncoder(categories=cats.tolist(), handle_unknown='ignore')\u001b[39;00m\n",
      "\n"
     ]
    },
    {
     "name": "stdin",
     "output_type": "stream",
     "text": [
      "ipdb>  c\n"
     ]
    },
    {
     "name": "stdout",
     "output_type": "stream",
     "text": [
      "> \u001b[32m/home/db/gitProjects/fraud-detection/src/preprocessing/preprocessor.py\u001b[39m(\u001b[92m43\u001b[39m)\u001b[36mone_hot\u001b[39m\u001b[34m()\u001b[39m\n",
      "\u001b[32m     41\u001b[39m             current_col = self.df[name].to_frame()\n",
      "\u001b[32m     42\u001b[39m             pdb.set_trace()\n",
      "\u001b[32m---> 43\u001b[39m             nan_mask = self.df[name].isna()\n",
      "\u001b[32m     44\u001b[39m             cats = self.df[name].unique()\n",
      "\u001b[32m     45\u001b[39m             \u001b[38;5;66;03m#encoder = OneHotEncoder(categories=cats.tolist(), handle_unknown='ignore')\u001b[39;00m\n",
      "\n"
     ]
    },
    {
     "name": "stdin",
     "output_type": "stream",
     "text": [
      "ipdb>  c\n"
     ]
    },
    {
     "name": "stdout",
     "output_type": "stream",
     "text": [
      "> \u001b[32m/home/db/gitProjects/fraud-detection/src/preprocessing/preprocessor.py\u001b[39m(\u001b[92m43\u001b[39m)\u001b[36mone_hot\u001b[39m\u001b[34m()\u001b[39m\n",
      "\u001b[32m     41\u001b[39m             current_col = self.df[name].to_frame()\n",
      "\u001b[32m     42\u001b[39m             pdb.set_trace()\n",
      "\u001b[32m---> 43\u001b[39m             nan_mask = self.df[name].isna()\n",
      "\u001b[32m     44\u001b[39m             cats = self.df[name].unique()\n",
      "\u001b[32m     45\u001b[39m             \u001b[38;5;66;03m#encoder = OneHotEncoder(categories=cats.tolist(), handle_unknown='ignore')\u001b[39;00m\n",
      "\n"
     ]
    },
    {
     "name": "stdin",
     "output_type": "stream",
     "text": [
      "ipdb>  c\n"
     ]
    },
    {
     "name": "stdout",
     "output_type": "stream",
     "text": [
      "> \u001b[32m/home/db/gitProjects/fraud-detection/src/preprocessing/preprocessor.py\u001b[39m(\u001b[92m43\u001b[39m)\u001b[36mone_hot\u001b[39m\u001b[34m()\u001b[39m\n",
      "\u001b[32m     41\u001b[39m             current_col = self.df[name].to_frame()\n",
      "\u001b[32m     42\u001b[39m             pdb.set_trace()\n",
      "\u001b[32m---> 43\u001b[39m             nan_mask = self.df[name].isna()\n",
      "\u001b[32m     44\u001b[39m             cats = self.df[name].unique()\n",
      "\u001b[32m     45\u001b[39m             \u001b[38;5;66;03m#encoder = OneHotEncoder(categories=cats.tolist(), handle_unknown='ignore')\u001b[39;00m\n",
      "\n"
     ]
    },
    {
     "name": "stdin",
     "output_type": "stream",
     "text": [
      "ipdb>  c\n"
     ]
    },
    {
     "name": "stdout",
     "output_type": "stream",
     "text": [
      "> \u001b[32m/home/db/gitProjects/fraud-detection/src/preprocessing/preprocessor.py\u001b[39m(\u001b[92m43\u001b[39m)\u001b[36mone_hot\u001b[39m\u001b[34m()\u001b[39m\n",
      "\u001b[32m     41\u001b[39m             current_col = self.df[name].to_frame()\n",
      "\u001b[32m     42\u001b[39m             pdb.set_trace()\n",
      "\u001b[32m---> 43\u001b[39m             nan_mask = self.df[name].isna()\n",
      "\u001b[32m     44\u001b[39m             cats = self.df[name].unique()\n",
      "\u001b[32m     45\u001b[39m             \u001b[38;5;66;03m#encoder = OneHotEncoder(categories=cats.tolist(), handle_unknown='ignore')\u001b[39;00m\n",
      "\n"
     ]
    },
    {
     "name": "stdin",
     "output_type": "stream",
     "text": [
      "ipdb>  c\n"
     ]
    },
    {
     "name": "stdout",
     "output_type": "stream",
     "text": [
      "> \u001b[32m/home/db/gitProjects/fraud-detection/src/preprocessing/preprocessor.py\u001b[39m(\u001b[92m43\u001b[39m)\u001b[36mone_hot\u001b[39m\u001b[34m()\u001b[39m\n",
      "\u001b[32m     41\u001b[39m             current_col = self.df[name].to_frame()\n",
      "\u001b[32m     42\u001b[39m             pdb.set_trace()\n",
      "\u001b[32m---> 43\u001b[39m             nan_mask = self.df[name].isna()\n",
      "\u001b[32m     44\u001b[39m             cats = self.df[name].unique()\n",
      "\u001b[32m     45\u001b[39m             \u001b[38;5;66;03m#encoder = OneHotEncoder(categories=cats.tolist(), handle_unknown='ignore')\u001b[39;00m\n",
      "\n"
     ]
    },
    {
     "name": "stdin",
     "output_type": "stream",
     "text": [
      "ipdb>  c\n"
     ]
    },
    {
     "name": "stdout",
     "output_type": "stream",
     "text": [
      "> \u001b[32m/home/db/gitProjects/fraud-detection/src/preprocessing/preprocessor.py\u001b[39m(\u001b[92m43\u001b[39m)\u001b[36mone_hot\u001b[39m\u001b[34m()\u001b[39m\n",
      "\u001b[32m     41\u001b[39m             current_col = self.df[name].to_frame()\n",
      "\u001b[32m     42\u001b[39m             pdb.set_trace()\n",
      "\u001b[32m---> 43\u001b[39m             nan_mask = self.df[name].isna()\n",
      "\u001b[32m     44\u001b[39m             cats = self.df[name].unique()\n",
      "\u001b[32m     45\u001b[39m             \u001b[38;5;66;03m#encoder = OneHotEncoder(categories=cats.tolist(), handle_unknown='ignore')\u001b[39;00m\n",
      "\n"
     ]
    },
    {
     "name": "stdin",
     "output_type": "stream",
     "text": [
      "ipdb>  c\n"
     ]
    },
    {
     "name": "stdout",
     "output_type": "stream",
     "text": [
      "> \u001b[32m/home/db/gitProjects/fraud-detection/src/preprocessing/preprocessor.py\u001b[39m(\u001b[92m43\u001b[39m)\u001b[36mone_hot\u001b[39m\u001b[34m()\u001b[39m\n",
      "\u001b[32m     41\u001b[39m             current_col = self.df[name].to_frame()\n",
      "\u001b[32m     42\u001b[39m             pdb.set_trace()\n",
      "\u001b[32m---> 43\u001b[39m             nan_mask = self.df[name].isna()\n",
      "\u001b[32m     44\u001b[39m             cats = self.df[name].unique()\n",
      "\u001b[32m     45\u001b[39m             \u001b[38;5;66;03m#encoder = OneHotEncoder(categories=cats.tolist(), handle_unknown='ignore')\u001b[39;00m\n",
      "\n"
     ]
    },
    {
     "name": "stdin",
     "output_type": "stream",
     "text": [
      "ipdb>  \n",
      "ipdb>  c\n"
     ]
    },
    {
     "name": "stdout",
     "output_type": "stream",
     "text": [
      "> \u001b[32m/home/db/gitProjects/fraud-detection/src/preprocessing/preprocessor.py\u001b[39m(\u001b[92m43\u001b[39m)\u001b[36mone_hot\u001b[39m\u001b[34m()\u001b[39m\n",
      "\u001b[32m     41\u001b[39m             current_col = self.df[name].to_frame()\n",
      "\u001b[32m     42\u001b[39m             pdb.set_trace()\n",
      "\u001b[32m---> 43\u001b[39m             nan_mask = self.df[name].isna()\n",
      "\u001b[32m     44\u001b[39m             cats = self.df[name].unique()\n",
      "\u001b[32m     45\u001b[39m             \u001b[38;5;66;03m#encoder = OneHotEncoder(categories=cats.tolist(), handle_unknown='ignore')\u001b[39;00m\n",
      "\n"
     ]
    },
    {
     "name": "stdin",
     "output_type": "stream",
     "text": [
      "ipdb>  c\n"
     ]
    },
    {
     "name": "stdout",
     "output_type": "stream",
     "text": [
      "> \u001b[32m/home/db/gitProjects/fraud-detection/src/preprocessing/preprocessor.py\u001b[39m(\u001b[92m43\u001b[39m)\u001b[36mone_hot\u001b[39m\u001b[34m()\u001b[39m\n",
      "\u001b[32m     41\u001b[39m             current_col = self.df[name].to_frame()\n",
      "\u001b[32m     42\u001b[39m             pdb.set_trace()\n",
      "\u001b[32m---> 43\u001b[39m             nan_mask = self.df[name].isna()\n",
      "\u001b[32m     44\u001b[39m             cats = self.df[name].unique()\n",
      "\u001b[32m     45\u001b[39m             \u001b[38;5;66;03m#encoder = OneHotEncoder(categories=cats.tolist(), handle_unknown='ignore')\u001b[39;00m\n",
      "\n"
     ]
    },
    {
     "name": "stdin",
     "output_type": "stream",
     "text": [
      "ipdb>  c\n"
     ]
    }
   ],
   "source": [
    "prep = Preprocessor(df, drop_method={\"missing\":70}, drop_list=[])\n",
    "prep.run()\n",
    "#df = prep.df\n",
    "dropped_cols = prep.dropped_cols\n",
    "new_columns = prep.cols"
   ]
  },
  {
   "cell_type": "code",
   "execution_count": 26,
   "id": "2c2f9e05-5be8-4f80-b3d7-d813de011f30",
   "metadata": {},
   "outputs": [
    {
     "data": {
      "text/plain": [
       "Index(['TransactionID', 'isFraud', 'TransactionDT', 'TransactionAmt',\n",
       "       'ProductCD', 'card1', 'card2', 'card3', 'card4', 'card5',\n",
       "       ...\n",
       "       'V312', 'V313', 'V314', 'V315', 'V316', 'V317', 'V318', 'V319', 'V320',\n",
       "       'V321'],\n",
       "      dtype='object', length=335)"
      ]
     },
     "execution_count": 26,
     "metadata": {},
     "output_type": "execute_result"
    }
   ],
   "source": [
    "new_columns"
   ]
  },
  {
   "cell_type": "code",
   "execution_count": 45,
   "id": "ed70d92b-54d4-49da-aaf6-25017344321f",
   "metadata": {},
   "outputs": [],
   "source": [
    "X = df[new_columns]\n",
    "X_cat = df.select_dtypes(include='object')\n",
    "cat_cols = X_cat.columns\n",
    "enc = OneHotEncoder(drop=\"if_binary\", handle_unknown=\"ignore\")\n",
    "enc.fit(X_cat)\n",
    "X_new = enc.transform(X_cat)\n",
    "\n",
    "X_test = df_valid[cat_cols]"
   ]
  },
  {
   "cell_type": "code",
   "execution_count": 46,
   "id": "13fed7bc-6d5a-439b-b585-770af310df1d",
   "metadata": {},
   "outputs": [
    {
     "data": {
      "text/plain": [
       "[array(['C', 'H', 'R', 'S', 'W'], dtype=object),\n",
       " array(['american express', 'discover', 'mastercard', 'visa'], dtype=object),\n",
       " array(['credit', 'debit'], dtype=object),\n",
       " array(['anonymous.com', 'aol.com', 'gmail.com', 'hotmail.com', 'mail.com',\n",
       "        'me.com', 'outlook.com', 'verizon.net', 'yahoo.com', nan],\n",
       "       dtype=object),\n",
       " array(['anonymous.com', 'gmail.com', 'hotmail.com', 'outlook.com', nan],\n",
       "       dtype=object),\n",
       " array(['T', nan], dtype=object),\n",
       " array(['F', 'T', nan], dtype=object),\n",
       " array(['F', 'T', nan], dtype=object),\n",
       " array(['M0', 'M1', 'M2', nan], dtype=object),\n",
       " array(['F', 'T', nan], dtype=object),\n",
       " array(['F', 'T', nan], dtype=object),\n",
       " array(['F', 'T', nan], dtype=object),\n",
       " array(['F', 'T', nan], dtype=object),\n",
       " array(['F', 'T', nan], dtype=object)]"
      ]
     },
     "execution_count": 46,
     "metadata": {},
     "output_type": "execute_result"
    }
   ],
   "source": [
    "enc.categories_"
   ]
  },
  {
   "cell_type": "code",
   "execution_count": 54,
   "id": "22d75af3-747f-44d3-b4e6-e6649efb4d22",
   "metadata": {},
   "outputs": [
    {
     "name": "stderr",
     "output_type": "stream",
     "text": [
      "/home/db/gitProjects/fraud-detection/venv/lib/python3.11/site-packages/sklearn/preprocessing/_encoders.py:246: UserWarning: Found unknown categories in columns [3] during transform. These unknown categories will be encoded as all zeros\n",
      "  warnings.warn(\n"
     ]
    },
    {
     "data": {
      "text/plain": [
       "array(['gmail.com', 'aol.com', 'hotmail.com', 'yahoo.com',\n",
       "       'anonymous.com', 'icloud.com', nan, 'gmail'], dtype=object)"
      ]
     },
     "execution_count": 54,
     "metadata": {},
     "output_type": "execute_result"
    }
   ],
   "source": [
    "X_test_new = enc.transform(X_test)\n",
    "X_test_new.toarray()\n",
    "X_test\n",
    "X_test.P_emaildomain.unique()"
   ]
  },
  {
   "cell_type": "code",
   "execution_count": 55,
   "id": "e9e83ce6-e70a-4086-8a19-b7d11f916384",
   "metadata": {},
   "outputs": [
    {
     "data": {
      "text/plain": [
       "array([nan, 'gmail.com', 'outlook.com', 'yahoo.com', 'mail.com',\n",
       "       'anonymous.com', 'hotmail.com', 'verizon.net', 'aol.com', 'me.com'],\n",
       "      dtype=object)"
      ]
     },
     "execution_count": 55,
     "metadata": {},
     "output_type": "execute_result"
    }
   ],
   "source": [
    "X_cat.P_emaildomain.unique()"
   ]
  },
  {
   "cell_type": "code",
   "execution_count": 8,
   "id": "ea35f83a-bb02-40a8-a294-d74e6eaed477",
   "metadata": {},
   "outputs": [],
   "source": [
    "oversample = RandomOverSampler(sampling_strategy='minority')\n",
    "X_over, y_over = oversample.fit_resample(X, y)"
   ]
  },
  {
   "cell_type": "code",
   "execution_count": 9,
   "id": "f9b38468-ece6-4b9d-8f69-a7974438ee34",
   "metadata": {},
   "outputs": [
    {
     "data": {
      "text/html": [
       "<div>\n",
       "<style scoped>\n",
       "    .dataframe tbody tr th:only-of-type {\n",
       "        vertical-align: middle;\n",
       "    }\n",
       "\n",
       "    .dataframe tbody tr th {\n",
       "        vertical-align: top;\n",
       "    }\n",
       "\n",
       "    .dataframe thead th {\n",
       "        text-align: right;\n",
       "    }\n",
       "</style>\n",
       "<table border=\"1\" class=\"dataframe\">\n",
       "  <thead>\n",
       "    <tr style=\"text-align: right;\">\n",
       "      <th></th>\n",
       "      <th>TransactionID</th>\n",
       "      <th>TransactionDT</th>\n",
       "      <th>TransactionAmt</th>\n",
       "      <th>card1</th>\n",
       "      <th>card2</th>\n",
       "      <th>card3</th>\n",
       "      <th>card5</th>\n",
       "      <th>addr1</th>\n",
       "      <th>addr2</th>\n",
       "      <th>dist1</th>\n",
       "      <th>...</th>\n",
       "      <th>P_emaildomain_verizon.net</th>\n",
       "      <th>P_emaildomain_yahoo.com</th>\n",
       "      <th>M1_T</th>\n",
       "      <th>M2_T</th>\n",
       "      <th>M3_T</th>\n",
       "      <th>M4_M0</th>\n",
       "      <th>M4_M1</th>\n",
       "      <th>M4_M2</th>\n",
       "      <th>M5_T</th>\n",
       "      <th>M6_T</th>\n",
       "    </tr>\n",
       "  </thead>\n",
       "  <tbody>\n",
       "    <tr>\n",
       "      <th>0</th>\n",
       "      <td>2987000</td>\n",
       "      <td>86400</td>\n",
       "      <td>68.500</td>\n",
       "      <td>13926</td>\n",
       "      <td>NaN</td>\n",
       "      <td>150.0</td>\n",
       "      <td>142.0</td>\n",
       "      <td>315.0</td>\n",
       "      <td>87.0</td>\n",
       "      <td>19.0</td>\n",
       "      <td>...</td>\n",
       "      <td>NaN</td>\n",
       "      <td>NaN</td>\n",
       "      <td>1.0</td>\n",
       "      <td>1.0</td>\n",
       "      <td>1.0</td>\n",
       "      <td>0.0</td>\n",
       "      <td>0.0</td>\n",
       "      <td>1.0</td>\n",
       "      <td>0.0</td>\n",
       "      <td>1.0</td>\n",
       "    </tr>\n",
       "    <tr>\n",
       "      <th>1</th>\n",
       "      <td>2987001</td>\n",
       "      <td>86401</td>\n",
       "      <td>29.000</td>\n",
       "      <td>2755</td>\n",
       "      <td>404.0</td>\n",
       "      <td>150.0</td>\n",
       "      <td>102.0</td>\n",
       "      <td>325.0</td>\n",
       "      <td>87.0</td>\n",
       "      <td>NaN</td>\n",
       "      <td>...</td>\n",
       "      <td>0.0</td>\n",
       "      <td>0.0</td>\n",
       "      <td>NaN</td>\n",
       "      <td>NaN</td>\n",
       "      <td>NaN</td>\n",
       "      <td>1.0</td>\n",
       "      <td>0.0</td>\n",
       "      <td>0.0</td>\n",
       "      <td>1.0</td>\n",
       "      <td>1.0</td>\n",
       "    </tr>\n",
       "    <tr>\n",
       "      <th>2</th>\n",
       "      <td>2987002</td>\n",
       "      <td>86469</td>\n",
       "      <td>59.000</td>\n",
       "      <td>4663</td>\n",
       "      <td>490.0</td>\n",
       "      <td>150.0</td>\n",
       "      <td>166.0</td>\n",
       "      <td>330.0</td>\n",
       "      <td>87.0</td>\n",
       "      <td>287.0</td>\n",
       "      <td>...</td>\n",
       "      <td>0.0</td>\n",
       "      <td>0.0</td>\n",
       "      <td>1.0</td>\n",
       "      <td>1.0</td>\n",
       "      <td>1.0</td>\n",
       "      <td>1.0</td>\n",
       "      <td>0.0</td>\n",
       "      <td>0.0</td>\n",
       "      <td>0.0</td>\n",
       "      <td>0.0</td>\n",
       "    </tr>\n",
       "    <tr>\n",
       "      <th>3</th>\n",
       "      <td>2987003</td>\n",
       "      <td>86499</td>\n",
       "      <td>50.000</td>\n",
       "      <td>18132</td>\n",
       "      <td>567.0</td>\n",
       "      <td>150.0</td>\n",
       "      <td>117.0</td>\n",
       "      <td>476.0</td>\n",
       "      <td>87.0</td>\n",
       "      <td>NaN</td>\n",
       "      <td>...</td>\n",
       "      <td>0.0</td>\n",
       "      <td>1.0</td>\n",
       "      <td>NaN</td>\n",
       "      <td>NaN</td>\n",
       "      <td>NaN</td>\n",
       "      <td>1.0</td>\n",
       "      <td>0.0</td>\n",
       "      <td>0.0</td>\n",
       "      <td>1.0</td>\n",
       "      <td>0.0</td>\n",
       "    </tr>\n",
       "    <tr>\n",
       "      <th>4</th>\n",
       "      <td>2987004</td>\n",
       "      <td>86506</td>\n",
       "      <td>50.000</td>\n",
       "      <td>4497</td>\n",
       "      <td>514.0</td>\n",
       "      <td>150.0</td>\n",
       "      <td>102.0</td>\n",
       "      <td>420.0</td>\n",
       "      <td>87.0</td>\n",
       "      <td>NaN</td>\n",
       "      <td>...</td>\n",
       "      <td>0.0</td>\n",
       "      <td>0.0</td>\n",
       "      <td>NaN</td>\n",
       "      <td>NaN</td>\n",
       "      <td>NaN</td>\n",
       "      <td>NaN</td>\n",
       "      <td>NaN</td>\n",
       "      <td>NaN</td>\n",
       "      <td>NaN</td>\n",
       "      <td>NaN</td>\n",
       "    </tr>\n",
       "    <tr>\n",
       "      <th>...</th>\n",
       "      <td>...</td>\n",
       "      <td>...</td>\n",
       "      <td>...</td>\n",
       "      <td>...</td>\n",
       "      <td>...</td>\n",
       "      <td>...</td>\n",
       "      <td>...</td>\n",
       "      <td>...</td>\n",
       "      <td>...</td>\n",
       "      <td>...</td>\n",
       "      <td>...</td>\n",
       "      <td>...</td>\n",
       "      <td>...</td>\n",
       "      <td>...</td>\n",
       "      <td>...</td>\n",
       "      <td>...</td>\n",
       "      <td>...</td>\n",
       "      <td>...</td>\n",
       "      <td>...</td>\n",
       "      <td>...</td>\n",
       "      <td>...</td>\n",
       "    </tr>\n",
       "    <tr>\n",
       "      <th>95</th>\n",
       "      <td>2987288</td>\n",
       "      <td>90986</td>\n",
       "      <td>155.521</td>\n",
       "      <td>16578</td>\n",
       "      <td>545.0</td>\n",
       "      <td>185.0</td>\n",
       "      <td>226.0</td>\n",
       "      <td>NaN</td>\n",
       "      <td>NaN</td>\n",
       "      <td>NaN</td>\n",
       "      <td>...</td>\n",
       "      <td>0.0</td>\n",
       "      <td>0.0</td>\n",
       "      <td>NaN</td>\n",
       "      <td>NaN</td>\n",
       "      <td>NaN</td>\n",
       "      <td>0.0</td>\n",
       "      <td>0.0</td>\n",
       "      <td>1.0</td>\n",
       "      <td>NaN</td>\n",
       "      <td>NaN</td>\n",
       "    </tr>\n",
       "    <tr>\n",
       "      <th>96</th>\n",
       "      <td>2987367</td>\n",
       "      <td>92350</td>\n",
       "      <td>225.000</td>\n",
       "      <td>4425</td>\n",
       "      <td>562.0</td>\n",
       "      <td>150.0</td>\n",
       "      <td>197.0</td>\n",
       "      <td>472.0</td>\n",
       "      <td>87.0</td>\n",
       "      <td>NaN</td>\n",
       "      <td>...</td>\n",
       "      <td>0.0</td>\n",
       "      <td>0.0</td>\n",
       "      <td>NaN</td>\n",
       "      <td>NaN</td>\n",
       "      <td>NaN</td>\n",
       "      <td>NaN</td>\n",
       "      <td>NaN</td>\n",
       "      <td>NaN</td>\n",
       "      <td>NaN</td>\n",
       "      <td>NaN</td>\n",
       "    </tr>\n",
       "    <tr>\n",
       "      <th>97</th>\n",
       "      <td>2987203</td>\n",
       "      <td>89760</td>\n",
       "      <td>445.000</td>\n",
       "      <td>18268</td>\n",
       "      <td>583.0</td>\n",
       "      <td>150.0</td>\n",
       "      <td>226.0</td>\n",
       "      <td>251.0</td>\n",
       "      <td>87.0</td>\n",
       "      <td>NaN</td>\n",
       "      <td>...</td>\n",
       "      <td>0.0</td>\n",
       "      <td>0.0</td>\n",
       "      <td>NaN</td>\n",
       "      <td>NaN</td>\n",
       "      <td>NaN</td>\n",
       "      <td>1.0</td>\n",
       "      <td>0.0</td>\n",
       "      <td>0.0</td>\n",
       "      <td>0.0</td>\n",
       "      <td>1.0</td>\n",
       "    </tr>\n",
       "    <tr>\n",
       "      <th>98</th>\n",
       "      <td>2987405</td>\n",
       "      <td>92999</td>\n",
       "      <td>90.570</td>\n",
       "      <td>4504</td>\n",
       "      <td>500.0</td>\n",
       "      <td>185.0</td>\n",
       "      <td>219.0</td>\n",
       "      <td>NaN</td>\n",
       "      <td>NaN</td>\n",
       "      <td>NaN</td>\n",
       "      <td>...</td>\n",
       "      <td>0.0</td>\n",
       "      <td>0.0</td>\n",
       "      <td>NaN</td>\n",
       "      <td>NaN</td>\n",
       "      <td>NaN</td>\n",
       "      <td>0.0</td>\n",
       "      <td>0.0</td>\n",
       "      <td>1.0</td>\n",
       "      <td>NaN</td>\n",
       "      <td>NaN</td>\n",
       "    </tr>\n",
       "    <tr>\n",
       "      <th>99</th>\n",
       "      <td>2987240</td>\n",
       "      <td>90193</td>\n",
       "      <td>37.098</td>\n",
       "      <td>13413</td>\n",
       "      <td>103.0</td>\n",
       "      <td>185.0</td>\n",
       "      <td>137.0</td>\n",
       "      <td>NaN</td>\n",
       "      <td>NaN</td>\n",
       "      <td>NaN</td>\n",
       "      <td>...</td>\n",
       "      <td>0.0</td>\n",
       "      <td>0.0</td>\n",
       "      <td>NaN</td>\n",
       "      <td>NaN</td>\n",
       "      <td>NaN</td>\n",
       "      <td>0.0</td>\n",
       "      <td>0.0</td>\n",
       "      <td>1.0</td>\n",
       "      <td>NaN</td>\n",
       "      <td>NaN</td>\n",
       "    </tr>\n",
       "  </tbody>\n",
       "</table>\n",
       "<p>100 rows × 352 columns</p>\n",
       "</div>"
      ],
      "text/plain": [
       "    TransactionID  TransactionDT  TransactionAmt  card1  card2  card3  card5  \\\n",
       "0         2987000          86400          68.500  13926    NaN  150.0  142.0   \n",
       "1         2987001          86401          29.000   2755  404.0  150.0  102.0   \n",
       "2         2987002          86469          59.000   4663  490.0  150.0  166.0   \n",
       "3         2987003          86499          50.000  18132  567.0  150.0  117.0   \n",
       "4         2987004          86506          50.000   4497  514.0  150.0  102.0   \n",
       "..            ...            ...             ...    ...    ...    ...    ...   \n",
       "95        2987288          90986         155.521  16578  545.0  185.0  226.0   \n",
       "96        2987367          92350         225.000   4425  562.0  150.0  197.0   \n",
       "97        2987203          89760         445.000  18268  583.0  150.0  226.0   \n",
       "98        2987405          92999          90.570   4504  500.0  185.0  219.0   \n",
       "99        2987240          90193          37.098  13413  103.0  185.0  137.0   \n",
       "\n",
       "    addr1  addr2  dist1  ...  P_emaildomain_verizon.net  \\\n",
       "0   315.0   87.0   19.0  ...                        NaN   \n",
       "1   325.0   87.0    NaN  ...                        0.0   \n",
       "2   330.0   87.0  287.0  ...                        0.0   \n",
       "3   476.0   87.0    NaN  ...                        0.0   \n",
       "4   420.0   87.0    NaN  ...                        0.0   \n",
       "..    ...    ...    ...  ...                        ...   \n",
       "95    NaN    NaN    NaN  ...                        0.0   \n",
       "96  472.0   87.0    NaN  ...                        0.0   \n",
       "97  251.0   87.0    NaN  ...                        0.0   \n",
       "98    NaN    NaN    NaN  ...                        0.0   \n",
       "99    NaN    NaN    NaN  ...                        0.0   \n",
       "\n",
       "    P_emaildomain_yahoo.com  M1_T  M2_T  M3_T  M4_M0  M4_M1  M4_M2  M5_T  M6_T  \n",
       "0                       NaN   1.0   1.0   1.0    0.0    0.0    1.0   0.0   1.0  \n",
       "1                       0.0   NaN   NaN   NaN    1.0    0.0    0.0   1.0   1.0  \n",
       "2                       0.0   1.0   1.0   1.0    1.0    0.0    0.0   0.0   0.0  \n",
       "3                       1.0   NaN   NaN   NaN    1.0    0.0    0.0   1.0   0.0  \n",
       "4                       0.0   NaN   NaN   NaN    NaN    NaN    NaN   NaN   NaN  \n",
       "..                      ...   ...   ...   ...    ...    ...    ...   ...   ...  \n",
       "95                      0.0   NaN   NaN   NaN    0.0    0.0    1.0   NaN   NaN  \n",
       "96                      0.0   NaN   NaN   NaN    NaN    NaN    NaN   NaN   NaN  \n",
       "97                      0.0   NaN   NaN   NaN    1.0    0.0    0.0   0.0   1.0  \n",
       "98                      0.0   NaN   NaN   NaN    0.0    0.0    1.0   NaN   NaN  \n",
       "99                      0.0   NaN   NaN   NaN    0.0    0.0    1.0   NaN   NaN  \n",
       "\n",
       "[100 rows x 352 columns]"
      ]
     },
     "execution_count": 9,
     "metadata": {},
     "output_type": "execute_result"
    }
   ],
   "source": [
    "X_over"
   ]
  },
  {
   "cell_type": "code",
   "execution_count": 10,
   "id": "e0ac2123-53f0-4c4a-b38c-01c30052fa2b",
   "metadata": {},
   "outputs": [
    {
     "data": {
      "text/plain": [
       "0     0\n",
       "1     0\n",
       "2     0\n",
       "3     0\n",
       "4     0\n",
       "     ..\n",
       "95    1\n",
       "96    1\n",
       "97    1\n",
       "98    1\n",
       "99    1\n",
       "Name: isFraud, Length: 100, dtype: int64"
      ]
     },
     "execution_count": 10,
     "metadata": {},
     "output_type": "execute_result"
    }
   ],
   "source": [
    "y_over"
   ]
  },
  {
   "cell_type": "code",
   "execution_count": 11,
   "id": "2f426489-58a7-4144-af02-1fd0c2348119",
   "metadata": {},
   "outputs": [
    {
     "data": {
      "text/html": [
       "<style>#sk-container-id-1 {\n",
       "  /* Definition of color scheme common for light and dark mode */\n",
       "  --sklearn-color-text: #000;\n",
       "  --sklearn-color-text-muted: #666;\n",
       "  --sklearn-color-line: gray;\n",
       "  /* Definition of color scheme for unfitted estimators */\n",
       "  --sklearn-color-unfitted-level-0: #fff5e6;\n",
       "  --sklearn-color-unfitted-level-1: #f6e4d2;\n",
       "  --sklearn-color-unfitted-level-2: #ffe0b3;\n",
       "  --sklearn-color-unfitted-level-3: chocolate;\n",
       "  /* Definition of color scheme for fitted estimators */\n",
       "  --sklearn-color-fitted-level-0: #f0f8ff;\n",
       "  --sklearn-color-fitted-level-1: #d4ebff;\n",
       "  --sklearn-color-fitted-level-2: #b3dbfd;\n",
       "  --sklearn-color-fitted-level-3: cornflowerblue;\n",
       "\n",
       "  /* Specific color for light theme */\n",
       "  --sklearn-color-text-on-default-background: var(--sg-text-color, var(--theme-code-foreground, var(--jp-content-font-color1, black)));\n",
       "  --sklearn-color-background: var(--sg-background-color, var(--theme-background, var(--jp-layout-color0, white)));\n",
       "  --sklearn-color-border-box: var(--sg-text-color, var(--theme-code-foreground, var(--jp-content-font-color1, black)));\n",
       "  --sklearn-color-icon: #696969;\n",
       "\n",
       "  @media (prefers-color-scheme: dark) {\n",
       "    /* Redefinition of color scheme for dark theme */\n",
       "    --sklearn-color-text-on-default-background: var(--sg-text-color, var(--theme-code-foreground, var(--jp-content-font-color1, white)));\n",
       "    --sklearn-color-background: var(--sg-background-color, var(--theme-background, var(--jp-layout-color0, #111)));\n",
       "    --sklearn-color-border-box: var(--sg-text-color, var(--theme-code-foreground, var(--jp-content-font-color1, white)));\n",
       "    --sklearn-color-icon: #878787;\n",
       "  }\n",
       "}\n",
       "\n",
       "#sk-container-id-1 {\n",
       "  color: var(--sklearn-color-text);\n",
       "}\n",
       "\n",
       "#sk-container-id-1 pre {\n",
       "  padding: 0;\n",
       "}\n",
       "\n",
       "#sk-container-id-1 input.sk-hidden--visually {\n",
       "  border: 0;\n",
       "  clip: rect(1px 1px 1px 1px);\n",
       "  clip: rect(1px, 1px, 1px, 1px);\n",
       "  height: 1px;\n",
       "  margin: -1px;\n",
       "  overflow: hidden;\n",
       "  padding: 0;\n",
       "  position: absolute;\n",
       "  width: 1px;\n",
       "}\n",
       "\n",
       "#sk-container-id-1 div.sk-dashed-wrapped {\n",
       "  border: 1px dashed var(--sklearn-color-line);\n",
       "  margin: 0 0.4em 0.5em 0.4em;\n",
       "  box-sizing: border-box;\n",
       "  padding-bottom: 0.4em;\n",
       "  background-color: var(--sklearn-color-background);\n",
       "}\n",
       "\n",
       "#sk-container-id-1 div.sk-container {\n",
       "  /* jupyter's `normalize.less` sets `[hidden] { display: none; }`\n",
       "     but bootstrap.min.css set `[hidden] { display: none !important; }`\n",
       "     so we also need the `!important` here to be able to override the\n",
       "     default hidden behavior on the sphinx rendered scikit-learn.org.\n",
       "     See: https://github.com/scikit-learn/scikit-learn/issues/21755 */\n",
       "  display: inline-block !important;\n",
       "  position: relative;\n",
       "}\n",
       "\n",
       "#sk-container-id-1 div.sk-text-repr-fallback {\n",
       "  display: none;\n",
       "}\n",
       "\n",
       "div.sk-parallel-item,\n",
       "div.sk-serial,\n",
       "div.sk-item {\n",
       "  /* draw centered vertical line to link estimators */\n",
       "  background-image: linear-gradient(var(--sklearn-color-text-on-default-background), var(--sklearn-color-text-on-default-background));\n",
       "  background-size: 2px 100%;\n",
       "  background-repeat: no-repeat;\n",
       "  background-position: center center;\n",
       "}\n",
       "\n",
       "/* Parallel-specific style estimator block */\n",
       "\n",
       "#sk-container-id-1 div.sk-parallel-item::after {\n",
       "  content: \"\";\n",
       "  width: 100%;\n",
       "  border-bottom: 2px solid var(--sklearn-color-text-on-default-background);\n",
       "  flex-grow: 1;\n",
       "}\n",
       "\n",
       "#sk-container-id-1 div.sk-parallel {\n",
       "  display: flex;\n",
       "  align-items: stretch;\n",
       "  justify-content: center;\n",
       "  background-color: var(--sklearn-color-background);\n",
       "  position: relative;\n",
       "}\n",
       "\n",
       "#sk-container-id-1 div.sk-parallel-item {\n",
       "  display: flex;\n",
       "  flex-direction: column;\n",
       "}\n",
       "\n",
       "#sk-container-id-1 div.sk-parallel-item:first-child::after {\n",
       "  align-self: flex-end;\n",
       "  width: 50%;\n",
       "}\n",
       "\n",
       "#sk-container-id-1 div.sk-parallel-item:last-child::after {\n",
       "  align-self: flex-start;\n",
       "  width: 50%;\n",
       "}\n",
       "\n",
       "#sk-container-id-1 div.sk-parallel-item:only-child::after {\n",
       "  width: 0;\n",
       "}\n",
       "\n",
       "/* Serial-specific style estimator block */\n",
       "\n",
       "#sk-container-id-1 div.sk-serial {\n",
       "  display: flex;\n",
       "  flex-direction: column;\n",
       "  align-items: center;\n",
       "  background-color: var(--sklearn-color-background);\n",
       "  padding-right: 1em;\n",
       "  padding-left: 1em;\n",
       "}\n",
       "\n",
       "\n",
       "/* Toggleable style: style used for estimator/Pipeline/ColumnTransformer box that is\n",
       "clickable and can be expanded/collapsed.\n",
       "- Pipeline and ColumnTransformer use this feature and define the default style\n",
       "- Estimators will overwrite some part of the style using the `sk-estimator` class\n",
       "*/\n",
       "\n",
       "/* Pipeline and ColumnTransformer style (default) */\n",
       "\n",
       "#sk-container-id-1 div.sk-toggleable {\n",
       "  /* Default theme specific background. It is overwritten whether we have a\n",
       "  specific estimator or a Pipeline/ColumnTransformer */\n",
       "  background-color: var(--sklearn-color-background);\n",
       "}\n",
       "\n",
       "/* Toggleable label */\n",
       "#sk-container-id-1 label.sk-toggleable__label {\n",
       "  cursor: pointer;\n",
       "  display: flex;\n",
       "  width: 100%;\n",
       "  margin-bottom: 0;\n",
       "  padding: 0.5em;\n",
       "  box-sizing: border-box;\n",
       "  text-align: center;\n",
       "  align-items: start;\n",
       "  justify-content: space-between;\n",
       "  gap: 0.5em;\n",
       "}\n",
       "\n",
       "#sk-container-id-1 label.sk-toggleable__label .caption {\n",
       "  font-size: 0.6rem;\n",
       "  font-weight: lighter;\n",
       "  color: var(--sklearn-color-text-muted);\n",
       "}\n",
       "\n",
       "#sk-container-id-1 label.sk-toggleable__label-arrow:before {\n",
       "  /* Arrow on the left of the label */\n",
       "  content: \"▸\";\n",
       "  float: left;\n",
       "  margin-right: 0.25em;\n",
       "  color: var(--sklearn-color-icon);\n",
       "}\n",
       "\n",
       "#sk-container-id-1 label.sk-toggleable__label-arrow:hover:before {\n",
       "  color: var(--sklearn-color-text);\n",
       "}\n",
       "\n",
       "/* Toggleable content - dropdown */\n",
       "\n",
       "#sk-container-id-1 div.sk-toggleable__content {\n",
       "  max-height: 0;\n",
       "  max-width: 0;\n",
       "  overflow: hidden;\n",
       "  text-align: left;\n",
       "  /* unfitted */\n",
       "  background-color: var(--sklearn-color-unfitted-level-0);\n",
       "}\n",
       "\n",
       "#sk-container-id-1 div.sk-toggleable__content.fitted {\n",
       "  /* fitted */\n",
       "  background-color: var(--sklearn-color-fitted-level-0);\n",
       "}\n",
       "\n",
       "#sk-container-id-1 div.sk-toggleable__content pre {\n",
       "  margin: 0.2em;\n",
       "  border-radius: 0.25em;\n",
       "  color: var(--sklearn-color-text);\n",
       "  /* unfitted */\n",
       "  background-color: var(--sklearn-color-unfitted-level-0);\n",
       "}\n",
       "\n",
       "#sk-container-id-1 div.sk-toggleable__content.fitted pre {\n",
       "  /* unfitted */\n",
       "  background-color: var(--sklearn-color-fitted-level-0);\n",
       "}\n",
       "\n",
       "#sk-container-id-1 input.sk-toggleable__control:checked~div.sk-toggleable__content {\n",
       "  /* Expand drop-down */\n",
       "  max-height: 200px;\n",
       "  max-width: 100%;\n",
       "  overflow: auto;\n",
       "}\n",
       "\n",
       "#sk-container-id-1 input.sk-toggleable__control:checked~label.sk-toggleable__label-arrow:before {\n",
       "  content: \"▾\";\n",
       "}\n",
       "\n",
       "/* Pipeline/ColumnTransformer-specific style */\n",
       "\n",
       "#sk-container-id-1 div.sk-label input.sk-toggleable__control:checked~label.sk-toggleable__label {\n",
       "  color: var(--sklearn-color-text);\n",
       "  background-color: var(--sklearn-color-unfitted-level-2);\n",
       "}\n",
       "\n",
       "#sk-container-id-1 div.sk-label.fitted input.sk-toggleable__control:checked~label.sk-toggleable__label {\n",
       "  background-color: var(--sklearn-color-fitted-level-2);\n",
       "}\n",
       "\n",
       "/* Estimator-specific style */\n",
       "\n",
       "/* Colorize estimator box */\n",
       "#sk-container-id-1 div.sk-estimator input.sk-toggleable__control:checked~label.sk-toggleable__label {\n",
       "  /* unfitted */\n",
       "  background-color: var(--sklearn-color-unfitted-level-2);\n",
       "}\n",
       "\n",
       "#sk-container-id-1 div.sk-estimator.fitted input.sk-toggleable__control:checked~label.sk-toggleable__label {\n",
       "  /* fitted */\n",
       "  background-color: var(--sklearn-color-fitted-level-2);\n",
       "}\n",
       "\n",
       "#sk-container-id-1 div.sk-label label.sk-toggleable__label,\n",
       "#sk-container-id-1 div.sk-label label {\n",
       "  /* The background is the default theme color */\n",
       "  color: var(--sklearn-color-text-on-default-background);\n",
       "}\n",
       "\n",
       "/* On hover, darken the color of the background */\n",
       "#sk-container-id-1 div.sk-label:hover label.sk-toggleable__label {\n",
       "  color: var(--sklearn-color-text);\n",
       "  background-color: var(--sklearn-color-unfitted-level-2);\n",
       "}\n",
       "\n",
       "/* Label box, darken color on hover, fitted */\n",
       "#sk-container-id-1 div.sk-label.fitted:hover label.sk-toggleable__label.fitted {\n",
       "  color: var(--sklearn-color-text);\n",
       "  background-color: var(--sklearn-color-fitted-level-2);\n",
       "}\n",
       "\n",
       "/* Estimator label */\n",
       "\n",
       "#sk-container-id-1 div.sk-label label {\n",
       "  font-family: monospace;\n",
       "  font-weight: bold;\n",
       "  display: inline-block;\n",
       "  line-height: 1.2em;\n",
       "}\n",
       "\n",
       "#sk-container-id-1 div.sk-label-container {\n",
       "  text-align: center;\n",
       "}\n",
       "\n",
       "/* Estimator-specific */\n",
       "#sk-container-id-1 div.sk-estimator {\n",
       "  font-family: monospace;\n",
       "  border: 1px dotted var(--sklearn-color-border-box);\n",
       "  border-radius: 0.25em;\n",
       "  box-sizing: border-box;\n",
       "  margin-bottom: 0.5em;\n",
       "  /* unfitted */\n",
       "  background-color: var(--sklearn-color-unfitted-level-0);\n",
       "}\n",
       "\n",
       "#sk-container-id-1 div.sk-estimator.fitted {\n",
       "  /* fitted */\n",
       "  background-color: var(--sklearn-color-fitted-level-0);\n",
       "}\n",
       "\n",
       "/* on hover */\n",
       "#sk-container-id-1 div.sk-estimator:hover {\n",
       "  /* unfitted */\n",
       "  background-color: var(--sklearn-color-unfitted-level-2);\n",
       "}\n",
       "\n",
       "#sk-container-id-1 div.sk-estimator.fitted:hover {\n",
       "  /* fitted */\n",
       "  background-color: var(--sklearn-color-fitted-level-2);\n",
       "}\n",
       "\n",
       "/* Specification for estimator info (e.g. \"i\" and \"?\") */\n",
       "\n",
       "/* Common style for \"i\" and \"?\" */\n",
       "\n",
       ".sk-estimator-doc-link,\n",
       "a:link.sk-estimator-doc-link,\n",
       "a:visited.sk-estimator-doc-link {\n",
       "  float: right;\n",
       "  font-size: smaller;\n",
       "  line-height: 1em;\n",
       "  font-family: monospace;\n",
       "  background-color: var(--sklearn-color-background);\n",
       "  border-radius: 1em;\n",
       "  height: 1em;\n",
       "  width: 1em;\n",
       "  text-decoration: none !important;\n",
       "  margin-left: 0.5em;\n",
       "  text-align: center;\n",
       "  /* unfitted */\n",
       "  border: var(--sklearn-color-unfitted-level-1) 1pt solid;\n",
       "  color: var(--sklearn-color-unfitted-level-1);\n",
       "}\n",
       "\n",
       ".sk-estimator-doc-link.fitted,\n",
       "a:link.sk-estimator-doc-link.fitted,\n",
       "a:visited.sk-estimator-doc-link.fitted {\n",
       "  /* fitted */\n",
       "  border: var(--sklearn-color-fitted-level-1) 1pt solid;\n",
       "  color: var(--sklearn-color-fitted-level-1);\n",
       "}\n",
       "\n",
       "/* On hover */\n",
       "div.sk-estimator:hover .sk-estimator-doc-link:hover,\n",
       ".sk-estimator-doc-link:hover,\n",
       "div.sk-label-container:hover .sk-estimator-doc-link:hover,\n",
       ".sk-estimator-doc-link:hover {\n",
       "  /* unfitted */\n",
       "  background-color: var(--sklearn-color-unfitted-level-3);\n",
       "  color: var(--sklearn-color-background);\n",
       "  text-decoration: none;\n",
       "}\n",
       "\n",
       "div.sk-estimator.fitted:hover .sk-estimator-doc-link.fitted:hover,\n",
       ".sk-estimator-doc-link.fitted:hover,\n",
       "div.sk-label-container:hover .sk-estimator-doc-link.fitted:hover,\n",
       ".sk-estimator-doc-link.fitted:hover {\n",
       "  /* fitted */\n",
       "  background-color: var(--sklearn-color-fitted-level-3);\n",
       "  color: var(--sklearn-color-background);\n",
       "  text-decoration: none;\n",
       "}\n",
       "\n",
       "/* Span, style for the box shown on hovering the info icon */\n",
       ".sk-estimator-doc-link span {\n",
       "  display: none;\n",
       "  z-index: 9999;\n",
       "  position: relative;\n",
       "  font-weight: normal;\n",
       "  right: .2ex;\n",
       "  padding: .5ex;\n",
       "  margin: .5ex;\n",
       "  width: min-content;\n",
       "  min-width: 20ex;\n",
       "  max-width: 50ex;\n",
       "  color: var(--sklearn-color-text);\n",
       "  box-shadow: 2pt 2pt 4pt #999;\n",
       "  /* unfitted */\n",
       "  background: var(--sklearn-color-unfitted-level-0);\n",
       "  border: .5pt solid var(--sklearn-color-unfitted-level-3);\n",
       "}\n",
       "\n",
       ".sk-estimator-doc-link.fitted span {\n",
       "  /* fitted */\n",
       "  background: var(--sklearn-color-fitted-level-0);\n",
       "  border: var(--sklearn-color-fitted-level-3);\n",
       "}\n",
       "\n",
       ".sk-estimator-doc-link:hover span {\n",
       "  display: block;\n",
       "}\n",
       "\n",
       "/* \"?\"-specific style due to the `<a>` HTML tag */\n",
       "\n",
       "#sk-container-id-1 a.estimator_doc_link {\n",
       "  float: right;\n",
       "  font-size: 1rem;\n",
       "  line-height: 1em;\n",
       "  font-family: monospace;\n",
       "  background-color: var(--sklearn-color-background);\n",
       "  border-radius: 1rem;\n",
       "  height: 1rem;\n",
       "  width: 1rem;\n",
       "  text-decoration: none;\n",
       "  /* unfitted */\n",
       "  color: var(--sklearn-color-unfitted-level-1);\n",
       "  border: var(--sklearn-color-unfitted-level-1) 1pt solid;\n",
       "}\n",
       "\n",
       "#sk-container-id-1 a.estimator_doc_link.fitted {\n",
       "  /* fitted */\n",
       "  border: var(--sklearn-color-fitted-level-1) 1pt solid;\n",
       "  color: var(--sklearn-color-fitted-level-1);\n",
       "}\n",
       "\n",
       "/* On hover */\n",
       "#sk-container-id-1 a.estimator_doc_link:hover {\n",
       "  /* unfitted */\n",
       "  background-color: var(--sklearn-color-unfitted-level-3);\n",
       "  color: var(--sklearn-color-background);\n",
       "  text-decoration: none;\n",
       "}\n",
       "\n",
       "#sk-container-id-1 a.estimator_doc_link.fitted:hover {\n",
       "  /* fitted */\n",
       "  background-color: var(--sklearn-color-fitted-level-3);\n",
       "}\n",
       "</style><div id=\"sk-container-id-1\" class=\"sk-top-container\"><div class=\"sk-text-repr-fallback\"><pre>XGBClassifier(base_score=None, booster=None, callbacks=None,\n",
       "              colsample_bylevel=None, colsample_bynode=None,\n",
       "              colsample_bytree=None, device=None, early_stopping_rounds=None,\n",
       "              enable_categorical=False, eval_metric=None, feature_types=None,\n",
       "              feature_weights=None, gamma=None, grow_policy=None,\n",
       "              importance_type=None, interaction_constraints=None,\n",
       "              learning_rate=None, max_bin=None, max_cat_threshold=None,\n",
       "              max_cat_to_onehot=None, max_delta_step=None, max_depth=None,\n",
       "              max_leaves=None, min_child_weight=None, missing=nan,\n",
       "              monotone_constraints=None, multi_strategy=None, n_estimators=None,\n",
       "              n_jobs=None, num_parallel_tree=None, ...)</pre><b>In a Jupyter environment, please rerun this cell to show the HTML representation or trust the notebook. <br />On GitHub, the HTML representation is unable to render, please try loading this page with nbviewer.org.</b></div><div class=\"sk-container\" hidden><div class=\"sk-item\"><div class=\"sk-estimator fitted sk-toggleable\"><input class=\"sk-toggleable__control sk-hidden--visually\" id=\"sk-estimator-id-1\" type=\"checkbox\" checked><label for=\"sk-estimator-id-1\" class=\"sk-toggleable__label fitted sk-toggleable__label-arrow\"><div><div>XGBClassifier</div></div><div><a class=\"sk-estimator-doc-link fitted\" rel=\"noreferrer\" target=\"_blank\" href=\"https://xgboost.readthedocs.io/en/release_3.0.0/python/python_api.html#xgboost.XGBClassifier\">?<span>Documentation for XGBClassifier</span></a><span class=\"sk-estimator-doc-link fitted\">i<span>Fitted</span></span></div></label><div class=\"sk-toggleable__content fitted\"><pre>XGBClassifier(base_score=None, booster=None, callbacks=None,\n",
       "              colsample_bylevel=None, colsample_bynode=None,\n",
       "              colsample_bytree=None, device=None, early_stopping_rounds=None,\n",
       "              enable_categorical=False, eval_metric=None, feature_types=None,\n",
       "              feature_weights=None, gamma=None, grow_policy=None,\n",
       "              importance_type=None, interaction_constraints=None,\n",
       "              learning_rate=None, max_bin=None, max_cat_threshold=None,\n",
       "              max_cat_to_onehot=None, max_delta_step=None, max_depth=None,\n",
       "              max_leaves=None, min_child_weight=None, missing=nan,\n",
       "              monotone_constraints=None, multi_strategy=None, n_estimators=None,\n",
       "              n_jobs=None, num_parallel_tree=None, ...)</pre></div> </div></div></div></div>"
      ],
      "text/plain": [
       "XGBClassifier(base_score=None, booster=None, callbacks=None,\n",
       "              colsample_bylevel=None, colsample_bynode=None,\n",
       "              colsample_bytree=None, device=None, early_stopping_rounds=None,\n",
       "              enable_categorical=False, eval_metric=None, feature_types=None,\n",
       "              feature_weights=None, gamma=None, grow_policy=None,\n",
       "              importance_type=None, interaction_constraints=None,\n",
       "              learning_rate=None, max_bin=None, max_cat_threshold=None,\n",
       "              max_cat_to_onehot=None, max_delta_step=None, max_depth=None,\n",
       "              max_leaves=None, min_child_weight=None, missing=nan,\n",
       "              monotone_constraints=None, multi_strategy=None, n_estimators=None,\n",
       "              n_jobs=None, num_parallel_tree=None, ...)"
      ]
     },
     "execution_count": 11,
     "metadata": {},
     "output_type": "execute_result"
    }
   ],
   "source": [
    "model = xgb.XGBClassifier()\n",
    "model.fit(X_over, y_over)"
   ]
  },
  {
   "cell_type": "code",
   "execution_count": 37,
   "id": "1f9932d3-3a4c-4ecd-8717-da6d1c8f98c7",
   "metadata": {},
   "outputs": [
    {
     "name": "stdout",
     "output_type": "stream",
     "text": [
      "Accuracy: 100.00%\n"
     ]
    }
   ],
   "source": [
    "y_pred = model.predict(X_over)\n",
    "predictions = [round(value) for value in y_pred]\n",
    "\n",
    "# evaluate predictions\n",
    "accuracy = accuracy_score(y_over, predictions)\n",
    "print(\"Accuracy: %.2f%%\" % (accuracy * 100.0))"
   ]
  },
  {
   "cell_type": "code",
   "execution_count": 38,
   "id": "26232115-e7c5-4e04-8213-69cc6fda56bb",
   "metadata": {},
   "outputs": [],
   "source": [
    "prep_valid = Preprocessor(df_valid, drop_list = dropped_cols)\n",
    "prep_valid.drop()\n",
    "df_valid_new = prep_valid.df\n",
    "#df_test[df.columns]"
   ]
  },
  {
   "cell_type": "code",
   "execution_count": 39,
   "id": "2565daa1-3ebb-4132-a524-b62665ff3c5f",
   "metadata": {},
   "outputs": [
    {
     "data": {
      "text/plain": [
       "Index(['TransactionID', 'isFraud', 'TransactionDT', 'TransactionAmt',\n",
       "       'ProductCD', 'card1', 'card2', 'card3', 'card4', 'card5',\n",
       "       ...\n",
       "       'V330', 'V331', 'V332', 'V333', 'V334', 'V335', 'V336', 'V337', 'V338',\n",
       "       'V339'],\n",
       "      dtype='object', length=394)"
      ]
     },
     "execution_count": 39,
     "metadata": {},
     "output_type": "execute_result"
    }
   ],
   "source": [
    "df_valid_new.columns\n",
    "#df_test_new"
   ]
  },
  {
   "cell_type": "code",
   "execution_count": 40,
   "id": "7f9b6168-b742-4a3e-8d50-e623fa0f268d",
   "metadata": {},
   "outputs": [
    {
     "data": {
      "text/plain": [
       "Index(['TransactionID', 'isFraud', 'TransactionDT', 'TransactionAmt',\n",
       "       'ProductCD', 'card1', 'card2', 'card3', 'card4', 'card5',\n",
       "       ...\n",
       "       'V330', 'V331', 'V332', 'V333', 'V334', 'V335', 'V336', 'V337', 'V338',\n",
       "       'V339'],\n",
       "      dtype='object', length=394)"
      ]
     },
     "execution_count": 40,
     "metadata": {},
     "output_type": "execute_result"
    }
   ],
   "source": [
    "df.columns"
   ]
  },
  {
   "cell_type": "code",
   "execution_count": 44,
   "id": "b4550adb-902d-4dca-a3bc-6bb06c0995bb",
   "metadata": {},
   "outputs": [],
   "source": [
    "cols_valid = set(df_valid_new.columns.to_list())\n",
    "cols_train = set(df.columns.to_list())"
   ]
  },
  {
   "cell_type": "code",
   "execution_count": 45,
   "id": "bda08eb8-bb32-469b-8c86-20f07595ee94",
   "metadata": {},
   "outputs": [
    {
     "data": {
      "text/plain": [
       "set()"
      ]
     },
     "execution_count": 45,
     "metadata": {},
     "output_type": "execute_result"
    }
   ],
   "source": [
    "cols_train.difference(cols_valid)"
   ]
  },
  {
   "cell_type": "code",
   "execution_count": null,
   "id": "295f4cb3-f1ad-4755-af5c-034170e81fd3",
   "metadata": {},
   "outputs": [],
   "source": []
  }
 ],
 "metadata": {
  "kernelspec": {
   "display_name": "Python 3 (ipykernel)",
   "language": "python",
   "name": "python3"
  },
  "language_info": {
   "codemirror_mode": {
    "name": "ipython",
    "version": 3
   },
   "file_extension": ".py",
   "mimetype": "text/x-python",
   "name": "python",
   "nbconvert_exporter": "python",
   "pygments_lexer": "ipython3",
   "version": "3.11.4"
  }
 },
 "nbformat": 4,
 "nbformat_minor": 5
}
